{
  "nbformat": 4,
  "nbformat_minor": 0,
  "metadata": {
    "colab": {
      "name": "aula-12-triagem-ML.ipynb",
      "provenance": [],
      "collapsed_sections": []
    },
    "kernelspec": {
      "name": "python3",
      "display_name": "Python 3"
    }
  },
  "cells": [
    {
      "cell_type": "code",
      "metadata": {
        "id": "PLIctO3EpCOH"
      },
      "source": [
        "import pandas as pd\n",
        "import matplotlib.pyplot as plt\n",
        "import seaborn as sns\n",
        "import numpy as np"
      ],
      "execution_count": 3,
      "outputs": []
    },
    {
      "cell_type": "markdown",
      "metadata": {
        "id": "_gbgFLeapU4r"
      },
      "source": [
        "### 1. Importar e Preparar os Dados"
      ]
    },
    {
      "cell_type": "code",
      "metadata": {
        "id": "vVciMNHfoZ2y"
      },
      "source": [
        "url = 'https://raw.githubusercontent.com/fernandoawari/calculadora-aluguel-turma-set-20/main/2-manipulacao/dados_aluguel_ml_sao_paulo_preprocessado.csv'"
      ],
      "execution_count": 5,
      "outputs": []
    },
    {
      "cell_type": "code",
      "metadata": {
        "colab": {
          "base_uri": "https://localhost:8080/",
          "height": 195
        },
        "id": "bns8xjIWpRxL",
        "outputId": "ad3a9408-be84-4e50-8b64-a74f6cbb8c57"
      },
      "source": [
        "data = pd.read_csv(url)\n",
        "data.head()"
      ],
      "execution_count": 6,
      "outputs": [
        {
          "output_type": "execute_result",
          "data": {
            "text/html": [
              "<div>\n",
              "<style scoped>\n",
              "    .dataframe tbody tr th:only-of-type {\n",
              "        vertical-align: middle;\n",
              "    }\n",
              "\n",
              "    .dataframe tbody tr th {\n",
              "        vertical-align: top;\n",
              "    }\n",
              "\n",
              "    .dataframe thead th {\n",
              "        text-align: right;\n",
              "    }\n",
              "</style>\n",
              "<table border=\"1\" class=\"dataframe\">\n",
              "  <thead>\n",
              "    <tr style=\"text-align: right;\">\n",
              "      <th></th>\n",
              "      <th>zona</th>\n",
              "      <th>enderecos_lista</th>\n",
              "      <th>area</th>\n",
              "      <th>quartos</th>\n",
              "      <th>aluguel</th>\n",
              "    </tr>\n",
              "  </thead>\n",
              "  <tbody>\n",
              "    <tr>\n",
              "      <th>0</th>\n",
              "      <td>norte</td>\n",
              "      <td>Praça Rafael Mendes De Carvalho, Jardim Paraís...</td>\n",
              "      <td>50.0</td>\n",
              "      <td>2.0</td>\n",
              "      <td>1150</td>\n",
              "    </tr>\n",
              "    <tr>\n",
              "      <th>1</th>\n",
              "      <td>norte</td>\n",
              "      <td>Rua Almirante Noronha, Jardim São Paulo, São P...</td>\n",
              "      <td>76.0</td>\n",
              "      <td>3.0</td>\n",
              "      <td>1480</td>\n",
              "    </tr>\n",
              "    <tr>\n",
              "      <th>2</th>\n",
              "      <td>norte</td>\n",
              "      <td>Rua Cássio De Almeida, Vila Guilherme, São Pau...</td>\n",
              "      <td>30.0</td>\n",
              "      <td>1.0</td>\n",
              "      <td>800</td>\n",
              "    </tr>\n",
              "    <tr>\n",
              "      <th>3</th>\n",
              "      <td>norte</td>\n",
              "      <td>Rua Cabo José Da Silva, Parque Novo Mundo, São...</td>\n",
              "      <td>80.0</td>\n",
              "      <td>3.0</td>\n",
              "      <td>1180</td>\n",
              "    </tr>\n",
              "    <tr>\n",
              "      <th>4</th>\n",
              "      <td>norte</td>\n",
              "      <td>Parque Domingos Luís, Jardim São Paulo, São Pa...</td>\n",
              "      <td>70.0</td>\n",
              "      <td>2.0</td>\n",
              "      <td>1300</td>\n",
              "    </tr>\n",
              "  </tbody>\n",
              "</table>\n",
              "</div>"
            ],
            "text/plain": [
              "    zona                                    enderecos_lista  ...  quartos  aluguel\n",
              "0  norte  Praça Rafael Mendes De Carvalho, Jardim Paraís...  ...      2.0     1150\n",
              "1  norte  Rua Almirante Noronha, Jardim São Paulo, São P...  ...      3.0     1480\n",
              "2  norte  Rua Cássio De Almeida, Vila Guilherme, São Pau...  ...      1.0      800\n",
              "3  norte  Rua Cabo José Da Silva, Parque Novo Mundo, São...  ...      3.0     1180\n",
              "4  norte  Parque Domingos Luís, Jardim São Paulo, São Pa...  ...      2.0     1300\n",
              "\n",
              "[5 rows x 5 columns]"
            ]
          },
          "metadata": {
            "tags": []
          },
          "execution_count": 6
        }
      ]
    },
    {
      "cell_type": "code",
      "metadata": {
        "colab": {
          "base_uri": "https://localhost:8080/",
          "height": 136
        },
        "id": "NpMybVXKqavI",
        "outputId": "534b1a30-988b-43c6-c6d5-649ed73e6833"
      },
      "source": [
        "data.describe().T"
      ],
      "execution_count": 8,
      "outputs": [
        {
          "output_type": "execute_result",
          "data": {
            "text/html": [
              "<div>\n",
              "<style scoped>\n",
              "    .dataframe tbody tr th:only-of-type {\n",
              "        vertical-align: middle;\n",
              "    }\n",
              "\n",
              "    .dataframe tbody tr th {\n",
              "        vertical-align: top;\n",
              "    }\n",
              "\n",
              "    .dataframe thead th {\n",
              "        text-align: right;\n",
              "    }\n",
              "</style>\n",
              "<table border=\"1\" class=\"dataframe\">\n",
              "  <thead>\n",
              "    <tr style=\"text-align: right;\">\n",
              "      <th></th>\n",
              "      <th>count</th>\n",
              "      <th>mean</th>\n",
              "      <th>std</th>\n",
              "      <th>min</th>\n",
              "      <th>25%</th>\n",
              "      <th>50%</th>\n",
              "      <th>75%</th>\n",
              "      <th>max</th>\n",
              "    </tr>\n",
              "  </thead>\n",
              "  <tbody>\n",
              "    <tr>\n",
              "      <th>area</th>\n",
              "      <td>1341.0</td>\n",
              "      <td>112.697987</td>\n",
              "      <td>259.503149</td>\n",
              "      <td>1.0</td>\n",
              "      <td>48.0</td>\n",
              "      <td>67.0</td>\n",
              "      <td>106.0</td>\n",
              "      <td>7800.0</td>\n",
              "    </tr>\n",
              "    <tr>\n",
              "      <th>quartos</th>\n",
              "      <td>1273.0</td>\n",
              "      <td>2.106834</td>\n",
              "      <td>0.882869</td>\n",
              "      <td>1.0</td>\n",
              "      <td>1.0</td>\n",
              "      <td>2.0</td>\n",
              "      <td>3.0</td>\n",
              "      <td>5.0</td>\n",
              "    </tr>\n",
              "    <tr>\n",
              "      <th>aluguel</th>\n",
              "      <td>1344.0</td>\n",
              "      <td>4396.404762</td>\n",
              "      <td>29225.842756</td>\n",
              "      <td>299.0</td>\n",
              "      <td>1500.0</td>\n",
              "      <td>2200.0</td>\n",
              "      <td>3577.5</td>\n",
              "      <td>870000.0</td>\n",
              "    </tr>\n",
              "  </tbody>\n",
              "</table>\n",
              "</div>"
            ],
            "text/plain": [
              "          count         mean           std  ...     50%     75%       max\n",
              "area     1341.0   112.697987    259.503149  ...    67.0   106.0    7800.0\n",
              "quartos  1273.0     2.106834      0.882869  ...     2.0     3.0       5.0\n",
              "aluguel  1344.0  4396.404762  29225.842756  ...  2200.0  3577.5  870000.0\n",
              "\n",
              "[3 rows x 8 columns]"
            ]
          },
          "metadata": {
            "tags": []
          },
          "execution_count": 8
        }
      ]
    },
    {
      "cell_type": "code",
      "metadata": {
        "colab": {
          "base_uri": "https://localhost:8080/"
        },
        "id": "iQzcTPxpqgCQ",
        "outputId": "a2d4f188-6f66-42bd-e91a-6abc81a7861f"
      },
      "source": [
        "data.info()"
      ],
      "execution_count": 9,
      "outputs": [
        {
          "output_type": "stream",
          "text": [
            "<class 'pandas.core.frame.DataFrame'>\n",
            "RangeIndex: 1344 entries, 0 to 1343\n",
            "Data columns (total 5 columns):\n",
            " #   Column           Non-Null Count  Dtype  \n",
            "---  ------           --------------  -----  \n",
            " 0   zona             1344 non-null   object \n",
            " 1   enderecos_lista  1344 non-null   object \n",
            " 2   area             1341 non-null   float64\n",
            " 3   quartos          1273 non-null   float64\n",
            " 4   aluguel          1344 non-null   int64  \n",
            "dtypes: float64(2), int64(1), object(2)\n",
            "memory usage: 52.6+ KB\n"
          ],
          "name": "stdout"
        }
      ]
    },
    {
      "cell_type": "code",
      "metadata": {
        "id": "S2k5atEirRi9"
      },
      "source": [
        "from sklearn.model_selection import train_test_split"
      ],
      "execution_count": 10,
      "outputs": []
    },
    {
      "cell_type": "code",
      "metadata": {
        "id": "0OmfqIDlrkDd"
      },
      "source": [
        "train, test = train_test_split(data, test_size=0.25, random_state=123, stratify=data['zona'])"
      ],
      "execution_count": 31,
      "outputs": []
    },
    {
      "cell_type": "code",
      "metadata": {
        "colab": {
          "base_uri": "https://localhost:8080/"
        },
        "id": "ba7SwRCXrj26",
        "outputId": "7b994129-7ebc-461a-ddfb-4849d792b0f5"
      },
      "source": [
        "train.info()"
      ],
      "execution_count": 32,
      "outputs": [
        {
          "output_type": "stream",
          "text": [
            "<class 'pandas.core.frame.DataFrame'>\n",
            "Int64Index: 1008 entries, 221 to 904\n",
            "Data columns (total 5 columns):\n",
            " #   Column           Non-Null Count  Dtype  \n",
            "---  ------           --------------  -----  \n",
            " 0   zona             1008 non-null   object \n",
            " 1   enderecos_lista  1008 non-null   object \n",
            " 2   area             1005 non-null   float64\n",
            " 3   quartos          948 non-null    float64\n",
            " 4   aluguel          1008 non-null   int64  \n",
            "dtypes: float64(2), int64(1), object(2)\n",
            "memory usage: 47.2+ KB\n"
          ],
          "name": "stdout"
        }
      ]
    },
    {
      "cell_type": "code",
      "metadata": {
        "colab": {
          "base_uri": "https://localhost:8080/"
        },
        "id": "_Od488TvtnBy",
        "outputId": "c3f5896a-435c-4549-a953-055125408b5f"
      },
      "source": [
        "train['zona'].value_counts()"
      ],
      "execution_count": 33,
      "outputs": [
        {
          "output_type": "execute_result",
          "data": {
            "text/plain": [
              "sul      252\n",
              "norte    252\n",
              "leste    252\n",
              "oeste    252\n",
              "Name: zona, dtype: int64"
            ]
          },
          "metadata": {
            "tags": []
          },
          "execution_count": 33
        }
      ]
    },
    {
      "cell_type": "code",
      "metadata": {
        "colab": {
          "base_uri": "https://localhost:8080/"
        },
        "id": "vB91DdkxrjzW",
        "outputId": "890a4462-4873-4a2e-e3cf-89657c083ef8"
      },
      "source": [
        "test.info()"
      ],
      "execution_count": 34,
      "outputs": [
        {
          "output_type": "stream",
          "text": [
            "<class 'pandas.core.frame.DataFrame'>\n",
            "Int64Index: 336 entries, 419 to 1159\n",
            "Data columns (total 5 columns):\n",
            " #   Column           Non-Null Count  Dtype  \n",
            "---  ------           --------------  -----  \n",
            " 0   zona             336 non-null    object \n",
            " 1   enderecos_lista  336 non-null    object \n",
            " 2   area             336 non-null    float64\n",
            " 3   quartos          325 non-null    float64\n",
            " 4   aluguel          336 non-null    int64  \n",
            "dtypes: float64(2), int64(1), object(2)\n",
            "memory usage: 15.8+ KB\n"
          ],
          "name": "stdout"
        }
      ]
    },
    {
      "cell_type": "code",
      "metadata": {
        "colab": {
          "base_uri": "https://localhost:8080/"
        },
        "id": "aR6A92QuuAh8",
        "outputId": "6d6451af-bc66-4741-c031-87dcc62d9661"
      },
      "source": [
        "test['zona'].value_counts()"
      ],
      "execution_count": 35,
      "outputs": [
        {
          "output_type": "execute_result",
          "data": {
            "text/plain": [
              "sul      84\n",
              "leste    84\n",
              "oeste    84\n",
              "norte    84\n",
              "Name: zona, dtype: int64"
            ]
          },
          "metadata": {
            "tags": []
          },
          "execution_count": 35
        }
      ]
    },
    {
      "cell_type": "code",
      "metadata": {
        "colab": {
          "base_uri": "https://localhost:8080/",
          "height": 195
        },
        "id": "LEnYFd2asHsw",
        "outputId": "3e0e8312-c7fb-4533-a3ed-5acf995baaf0"
      },
      "source": [
        "test.head()"
      ],
      "execution_count": 36,
      "outputs": [
        {
          "output_type": "execute_result",
          "data": {
            "text/html": [
              "<div>\n",
              "<style scoped>\n",
              "    .dataframe tbody tr th:only-of-type {\n",
              "        vertical-align: middle;\n",
              "    }\n",
              "\n",
              "    .dataframe tbody tr th {\n",
              "        vertical-align: top;\n",
              "    }\n",
              "\n",
              "    .dataframe thead th {\n",
              "        text-align: right;\n",
              "    }\n",
              "</style>\n",
              "<table border=\"1\" class=\"dataframe\">\n",
              "  <thead>\n",
              "    <tr style=\"text-align: right;\">\n",
              "      <th></th>\n",
              "      <th>zona</th>\n",
              "      <th>enderecos_lista</th>\n",
              "      <th>area</th>\n",
              "      <th>quartos</th>\n",
              "      <th>aluguel</th>\n",
              "    </tr>\n",
              "  </thead>\n",
              "  <tbody>\n",
              "    <tr>\n",
              "      <th>419</th>\n",
              "      <td>sul</td>\n",
              "      <td>Rua Abagiba, Saúde, São Paulo Zona Sul, São Paulo</td>\n",
              "      <td>52.0</td>\n",
              "      <td>2.0</td>\n",
              "      <td>2020</td>\n",
              "    </tr>\n",
              "    <tr>\n",
              "      <th>366</th>\n",
              "      <td>sul</td>\n",
              "      <td>Rua Francisco José Da Silva, Vila Andrade, São...</td>\n",
              "      <td>40.0</td>\n",
              "      <td>1.0</td>\n",
              "      <td>1502</td>\n",
              "    </tr>\n",
              "    <tr>\n",
              "      <th>618</th>\n",
              "      <td>sul</td>\n",
              "      <td>Rua Maracá, Vila Guarani (z Sul), São Paulo Zo...</td>\n",
              "      <td>47.0</td>\n",
              "      <td>2.0</td>\n",
              "      <td>1610</td>\n",
              "    </tr>\n",
              "    <tr>\n",
              "      <th>653</th>\n",
              "      <td>sul</td>\n",
              "      <td>Avenida Barão De Campos Gerais, Real Parque, S...</td>\n",
              "      <td>115.0</td>\n",
              "      <td>3.0</td>\n",
              "      <td>3000</td>\n",
              "    </tr>\n",
              "    <tr>\n",
              "      <th>248</th>\n",
              "      <td>norte</td>\n",
              "      <td>Rua Voluntários Da Pátria, Santana, São Paulo ...</td>\n",
              "      <td>40.0</td>\n",
              "      <td>1.0</td>\n",
              "      <td>2500</td>\n",
              "    </tr>\n",
              "  </tbody>\n",
              "</table>\n",
              "</div>"
            ],
            "text/plain": [
              "      zona                                    enderecos_lista  ...  quartos  aluguel\n",
              "419    sul  Rua Abagiba, Saúde, São Paulo Zona Sul, São Paulo  ...      2.0     2020\n",
              "366    sul  Rua Francisco José Da Silva, Vila Andrade, São...  ...      1.0     1502\n",
              "618    sul  Rua Maracá, Vila Guarani (z Sul), São Paulo Zo...  ...      2.0     1610\n",
              "653    sul  Avenida Barão De Campos Gerais, Real Parque, S...  ...      3.0     3000\n",
              "248  norte  Rua Voluntários Da Pátria, Santana, São Paulo ...  ...      1.0     2500\n",
              "\n",
              "[5 rows x 5 columns]"
            ]
          },
          "metadata": {
            "tags": []
          },
          "execution_count": 36
        }
      ]
    },
    {
      "cell_type": "code",
      "metadata": {
        "colab": {
          "base_uri": "https://localhost:8080/",
          "height": 567
        },
        "id": "PeWHoTTitWQT",
        "outputId": "01d01045-5d3b-4b71-8015-174fecdb824a"
      },
      "source": [
        "sns.pairplot(train, kind='reg')"
      ],
      "execution_count": 37,
      "outputs": [
        {
          "output_type": "execute_result",
          "data": {
            "text/plain": [
              "<seaborn.axisgrid.PairGrid at 0x7fcc80a01d30>"
            ]
          },
          "metadata": {
            "tags": []
          },
          "execution_count": 37
        },
        {
          "output_type": "display_data",
          "data": {
            "image/png": "[encoded data removed]",
            "text/plain": [
              "<Figure size 540x540 with 12 Axes>"
            ]
          },
          "metadata": {
            "tags": [],
            "needs_background": "light"
          }
        }
      ]
    },
    {
      "cell_type": "code",
      "metadata": {
        "colab": {
          "base_uri": "https://localhost:8080/"
        },
        "id": "s2eMyF8x0f3i",
        "outputId": "4893c6af-eaec-40be-982a-56e8e9dc2dd9"
      },
      "source": [
        "train['aluguel']=train['aluguel'].apply(np.log1p)\n",
        "train['area']=train['area'].apply(np.log1p)"
      ],
      "execution_count": 63,
      "outputs": [
        {
          "output_type": "stream",
          "text": [
            "/usr/local/lib/python3.6/dist-packages/ipykernel_launcher.py:1: SettingWithCopyWarning: \n",
            "A value is trying to be set on a copy of a slice from a DataFrame.\n",
            "Try using .loc[row_indexer,col_indexer] = value instead\n",
            "\n",
            "See the caveats in the documentation: https://pandas.pydata.org/pandas-docs/stable/user_guide/indexing.html#returning-a-view-versus-a-copy\n",
            "  \"\"\"Entry point for launching an IPython kernel.\n",
            "/usr/local/lib/python3.6/dist-packages/ipykernel_launcher.py:2: SettingWithCopyWarning: \n",
            "A value is trying to be set on a copy of a slice from a DataFrame.\n",
            "Try using .loc[row_indexer,col_indexer] = value instead\n",
            "\n",
            "See the caveats in the documentation: https://pandas.pydata.org/pandas-docs/stable/user_guide/indexing.html#returning-a-view-versus-a-copy\n",
            "  \n"
          ],
          "name": "stderr"
        }
      ]
    },
    {
      "cell_type": "code",
      "metadata": {
        "colab": {
          "base_uri": "https://localhost:8080/"
        },
        "id": "x-lKVXRi01ua",
        "outputId": "515f18be-d05f-4837-83a2-d071998ba1d8"
      },
      "source": [
        "test['aluguel']=test['aluguel'].apply(np.log1p)\n",
        "test['area']=test['area'].apply(np.log1p)"
      ],
      "execution_count": 65,
      "outputs": [
        {
          "output_type": "stream",
          "text": [
            "/usr/local/lib/python3.6/dist-packages/ipykernel_launcher.py:1: SettingWithCopyWarning: \n",
            "A value is trying to be set on a copy of a slice from a DataFrame.\n",
            "Try using .loc[row_indexer,col_indexer] = value instead\n",
            "\n",
            "See the caveats in the documentation: https://pandas.pydata.org/pandas-docs/stable/user_guide/indexing.html#returning-a-view-versus-a-copy\n",
            "  \"\"\"Entry point for launching an IPython kernel.\n",
            "/usr/local/lib/python3.6/dist-packages/ipykernel_launcher.py:2: SettingWithCopyWarning: \n",
            "A value is trying to be set on a copy of a slice from a DataFrame.\n",
            "Try using .loc[row_indexer,col_indexer] = value instead\n",
            "\n",
            "See the caveats in the documentation: https://pandas.pydata.org/pandas-docs/stable/user_guide/indexing.html#returning-a-view-versus-a-copy\n",
            "  \n"
          ],
          "name": "stderr"
        }
      ]
    },
    {
      "cell_type": "code",
      "metadata": {
        "colab": {
          "base_uri": "https://localhost:8080/",
          "height": 567
        },
        "id": "1q5KZCcE0fLJ",
        "outputId": "f0749dee-1618-47c4-d3b9-ab29ff6defe8"
      },
      "source": [
        "sns.pairplot(train, kind='reg')"
      ],
      "execution_count": 64,
      "outputs": [
        {
          "output_type": "execute_result",
          "data": {
            "text/plain": [
              "<seaborn.axisgrid.PairGrid at 0x7fcc7de0a8d0>"
            ]
          },
          "metadata": {
            "tags": []
          },
          "execution_count": 64
        },
        {
          "output_type": "display_data",
          "data": {
            "image/png": "[encoded data removed]",
            "text/plain": [
              "<Figure size 540x540 with 12 Axes>"
            ]
          },
          "metadata": {
            "tags": [],
            "needs_background": "light"
          }
        }
      ]
    },
    {
      "cell_type": "code",
      "metadata": {
        "id": "0RU7izgVpcT_"
      },
      "source": [
        "X_cols = ['zona', 'area', 'quartos']\n",
        "y_col = ['aluguel']"
      ],
      "execution_count": 66,
      "outputs": []
    },
    {
      "cell_type": "code",
      "metadata": {
        "id": "sg_PHw2XtVc8"
      },
      "source": [
        "X_train = train[X_cols]\n",
        "X_test = test[X_cols]\n",
        "y_train = train[y_col]\n",
        "y_test = test[y_col]"
      ],
      "execution_count": 67,
      "outputs": []
    },
    {
      "cell_type": "code",
      "metadata": {
        "colab": {
          "base_uri": "https://localhost:8080/",
          "height": 195
        },
        "id": "TqKo5pQhu3EQ",
        "outputId": "2ccf9442-640b-46f7-aced-e60f9b3c0177"
      },
      "source": [
        "X_train.head()"
      ],
      "execution_count": 68,
      "outputs": [
        {
          "output_type": "execute_result",
          "data": {
            "text/html": [
              "<div>\n",
              "<style scoped>\n",
              "    .dataframe tbody tr th:only-of-type {\n",
              "        vertical-align: middle;\n",
              "    }\n",
              "\n",
              "    .dataframe tbody tr th {\n",
              "        vertical-align: top;\n",
              "    }\n",
              "\n",
              "    .dataframe thead th {\n",
              "        text-align: right;\n",
              "    }\n",
              "</style>\n",
              "<table border=\"1\" class=\"dataframe\">\n",
              "  <thead>\n",
              "    <tr style=\"text-align: right;\">\n",
              "      <th></th>\n",
              "      <th>zona</th>\n",
              "      <th>area</th>\n",
              "      <th>quartos</th>\n",
              "    </tr>\n",
              "  </thead>\n",
              "  <tbody>\n",
              "    <tr>\n",
              "      <th>221</th>\n",
              "      <td>norte</td>\n",
              "      <td>4.007333</td>\n",
              "      <td>2.0</td>\n",
              "    </tr>\n",
              "    <tr>\n",
              "      <th>956</th>\n",
              "      <td>leste</td>\n",
              "      <td>4.406719</td>\n",
              "      <td>3.0</td>\n",
              "    </tr>\n",
              "    <tr>\n",
              "      <th>721</th>\n",
              "      <td>leste</td>\n",
              "      <td>4.454347</td>\n",
              "      <td>2.0</td>\n",
              "    </tr>\n",
              "    <tr>\n",
              "      <th>604</th>\n",
              "      <td>sul</td>\n",
              "      <td>4.369448</td>\n",
              "      <td>3.0</td>\n",
              "    </tr>\n",
              "    <tr>\n",
              "      <th>119</th>\n",
              "      <td>norte</td>\n",
              "      <td>4.875197</td>\n",
              "      <td>NaN</td>\n",
              "    </tr>\n",
              "  </tbody>\n",
              "</table>\n",
              "</div>"
            ],
            "text/plain": [
              "      zona      area  quartos\n",
              "221  norte  4.007333      2.0\n",
              "956  leste  4.406719      3.0\n",
              "721  leste  4.454347      2.0\n",
              "604    sul  4.369448      3.0\n",
              "119  norte  4.875197      NaN"
            ]
          },
          "metadata": {
            "tags": []
          },
          "execution_count": 68
        }
      ]
    },
    {
      "cell_type": "code",
      "metadata": {
        "id": "Xrtclk3xtVSu"
      },
      "source": [
        "# Tratar colunas categoricas\n",
        "X_train = pd.get_dummies(X_train)\n",
        "X_test = pd.get_dummies(X_test)"
      ],
      "execution_count": 69,
      "outputs": []
    },
    {
      "cell_type": "code",
      "metadata": {
        "colab": {
          "base_uri": "https://localhost:8080/",
          "height": 195
        },
        "id": "lhuxKPXbtVG6",
        "outputId": "306f1011-acca-450b-a55e-b029512f9e59"
      },
      "source": [
        "X_train.head()"
      ],
      "execution_count": 70,
      "outputs": [
        {
          "output_type": "execute_result",
          "data": {
            "text/html": [
              "<div>\n",
              "<style scoped>\n",
              "    .dataframe tbody tr th:only-of-type {\n",
              "        vertical-align: middle;\n",
              "    }\n",
              "\n",
              "    .dataframe tbody tr th {\n",
              "        vertical-align: top;\n",
              "    }\n",
              "\n",
              "    .dataframe thead th {\n",
              "        text-align: right;\n",
              "    }\n",
              "</style>\n",
              "<table border=\"1\" class=\"dataframe\">\n",
              "  <thead>\n",
              "    <tr style=\"text-align: right;\">\n",
              "      <th></th>\n",
              "      <th>area</th>\n",
              "      <th>quartos</th>\n",
              "      <th>zona_leste</th>\n",
              "      <th>zona_norte</th>\n",
              "      <th>zona_oeste</th>\n",
              "      <th>zona_sul</th>\n",
              "    </tr>\n",
              "  </thead>\n",
              "  <tbody>\n",
              "    <tr>\n",
              "      <th>221</th>\n",
              "      <td>4.007333</td>\n",
              "      <td>2.0</td>\n",
              "      <td>0</td>\n",
              "      <td>1</td>\n",
              "      <td>0</td>\n",
              "      <td>0</td>\n",
              "    </tr>\n",
              "    <tr>\n",
              "      <th>956</th>\n",
              "      <td>4.406719</td>\n",
              "      <td>3.0</td>\n",
              "      <td>1</td>\n",
              "      <td>0</td>\n",
              "      <td>0</td>\n",
              "      <td>0</td>\n",
              "    </tr>\n",
              "    <tr>\n",
              "      <th>721</th>\n",
              "      <td>4.454347</td>\n",
              "      <td>2.0</td>\n",
              "      <td>1</td>\n",
              "      <td>0</td>\n",
              "      <td>0</td>\n",
              "      <td>0</td>\n",
              "    </tr>\n",
              "    <tr>\n",
              "      <th>604</th>\n",
              "      <td>4.369448</td>\n",
              "      <td>3.0</td>\n",
              "      <td>0</td>\n",
              "      <td>0</td>\n",
              "      <td>0</td>\n",
              "      <td>1</td>\n",
              "    </tr>\n",
              "    <tr>\n",
              "      <th>119</th>\n",
              "      <td>4.875197</td>\n",
              "      <td>NaN</td>\n",
              "      <td>0</td>\n",
              "      <td>1</td>\n",
              "      <td>0</td>\n",
              "      <td>0</td>\n",
              "    </tr>\n",
              "  </tbody>\n",
              "</table>\n",
              "</div>"
            ],
            "text/plain": [
              "         area  quartos  zona_leste  zona_norte  zona_oeste  zona_sul\n",
              "221  4.007333      2.0           0           1           0         0\n",
              "956  4.406719      3.0           1           0           0         0\n",
              "721  4.454347      2.0           1           0           0         0\n",
              "604  4.369448      3.0           0           0           0         1\n",
              "119  4.875197      NaN           0           1           0         0"
            ]
          },
          "metadata": {
            "tags": []
          },
          "execution_count": 70
        }
      ]
    },
    {
      "cell_type": "code",
      "metadata": {
        "id": "Smqf3X3jvhJw"
      },
      "source": [
        "# Tratar valores ausente\n",
        "# Importante: Usar informações do conjunto de treino\n",
        "train_medians = X_train.median()\n",
        "X_train=X_train.fillna(train_medians)\n",
        "X_test=X_test.fillna(train_medians)"
      ],
      "execution_count": 71,
      "outputs": []
    },
    {
      "cell_type": "code",
      "metadata": {
        "colab": {
          "base_uri": "https://localhost:8080/",
          "height": 195
        },
        "id": "HDUDC5tGw131",
        "outputId": "e2b48785-1248-4359-ae01-4fd94144c81c"
      },
      "source": [
        "X_train.head()"
      ],
      "execution_count": 72,
      "outputs": [
        {
          "output_type": "execute_result",
          "data": {
            "text/html": [
              "<div>\n",
              "<style scoped>\n",
              "    .dataframe tbody tr th:only-of-type {\n",
              "        vertical-align: middle;\n",
              "    }\n",
              "\n",
              "    .dataframe tbody tr th {\n",
              "        vertical-align: top;\n",
              "    }\n",
              "\n",
              "    .dataframe thead th {\n",
              "        text-align: right;\n",
              "    }\n",
              "</style>\n",
              "<table border=\"1\" class=\"dataframe\">\n",
              "  <thead>\n",
              "    <tr style=\"text-align: right;\">\n",
              "      <th></th>\n",
              "      <th>area</th>\n",
              "      <th>quartos</th>\n",
              "      <th>zona_leste</th>\n",
              "      <th>zona_norte</th>\n",
              "      <th>zona_oeste</th>\n",
              "      <th>zona_sul</th>\n",
              "    </tr>\n",
              "  </thead>\n",
              "  <tbody>\n",
              "    <tr>\n",
              "      <th>221</th>\n",
              "      <td>4.007333</td>\n",
              "      <td>2.0</td>\n",
              "      <td>0</td>\n",
              "      <td>1</td>\n",
              "      <td>0</td>\n",
              "      <td>0</td>\n",
              "    </tr>\n",
              "    <tr>\n",
              "      <th>956</th>\n",
              "      <td>4.406719</td>\n",
              "      <td>3.0</td>\n",
              "      <td>1</td>\n",
              "      <td>0</td>\n",
              "      <td>0</td>\n",
              "      <td>0</td>\n",
              "    </tr>\n",
              "    <tr>\n",
              "      <th>721</th>\n",
              "      <td>4.454347</td>\n",
              "      <td>2.0</td>\n",
              "      <td>1</td>\n",
              "      <td>0</td>\n",
              "      <td>0</td>\n",
              "      <td>0</td>\n",
              "    </tr>\n",
              "    <tr>\n",
              "      <th>604</th>\n",
              "      <td>4.369448</td>\n",
              "      <td>3.0</td>\n",
              "      <td>0</td>\n",
              "      <td>0</td>\n",
              "      <td>0</td>\n",
              "      <td>1</td>\n",
              "    </tr>\n",
              "    <tr>\n",
              "      <th>119</th>\n",
              "      <td>4.875197</td>\n",
              "      <td>2.0</td>\n",
              "      <td>0</td>\n",
              "      <td>1</td>\n",
              "      <td>0</td>\n",
              "      <td>0</td>\n",
              "    </tr>\n",
              "  </tbody>\n",
              "</table>\n",
              "</div>"
            ],
            "text/plain": [
              "         area  quartos  zona_leste  zona_norte  zona_oeste  zona_sul\n",
              "221  4.007333      2.0           0           1           0         0\n",
              "956  4.406719      3.0           1           0           0         0\n",
              "721  4.454347      2.0           1           0           0         0\n",
              "604  4.369448      3.0           0           0           0         1\n",
              "119  4.875197      2.0           0           1           0         0"
            ]
          },
          "metadata": {
            "tags": []
          },
          "execution_count": 72
        }
      ]
    },
    {
      "cell_type": "markdown",
      "metadata": {
        "id": "QcRo6LAkxPS-"
      },
      "source": [
        "## 2. Machine Learning\n",
        "### 2.1 Definição de Métrica\n",
        "Métricas para regressão:\n",
        "- Mean Absolute Error\n",
        "- Mean Squared Error\n",
        "- R2 Score\n",
        "- Root Mean Squared Error\n",
        "\n",
        "\n",
        "\n",
        "### 2.2 Modelo Base"
      ]
    },
    {
      "cell_type": "code",
      "metadata": {
        "colab": {
          "base_uri": "https://localhost:8080/"
        },
        "id": "0rDSw0i6xMrZ",
        "outputId": "a7ed1eb4-b1d3-4804-aa77-dcc88c0cb075"
      },
      "source": [
        "from sklearn.neighbors import KNeighborsRegressor\n",
        "neigh = KNeighborsRegressor()\n",
        "neigh.fit(X_train, y_train)"
      ],
      "execution_count": 73,
      "outputs": [
        {
          "output_type": "execute_result",
          "data": {
            "text/plain": [
              "KNeighborsRegressor(algorithm='auto', leaf_size=30, metric='minkowski',\n",
              "                    metric_params=None, n_jobs=None, n_neighbors=5, p=2,\n",
              "                    weights='uniform')"
            ]
          },
          "metadata": {
            "tags": []
          },
          "execution_count": 73
        }
      ]
    },
    {
      "cell_type": "code",
      "metadata": {
        "id": "zUGJI2Eeyk-_"
      },
      "source": [
        "y_pred = neigh.predict(X_test)"
      ],
      "execution_count": 74,
      "outputs": []
    },
    {
      "cell_type": "code",
      "metadata": {
        "colab": {
          "base_uri": "https://localhost:8080/"
        },
        "id": "WRi-wbbLzRNz",
        "outputId": "76d3a651-3566-4ec3-c622-4c05cc978095"
      },
      "source": [
        "# Root Mean Squared Error\n",
        "np.sqrt(np.mean((y_pred-y_test.values)**2))"
      ],
      "execution_count": 75,
      "outputs": [
        {
          "output_type": "execute_result",
          "data": {
            "text/plain": [
              "0.4736086843481374"
            ]
          },
          "metadata": {
            "tags": []
          },
          "execution_count": 75
        }
      ]
    },
    {
      "cell_type": "code",
      "metadata": {
        "colab": {
          "base_uri": "https://localhost:8080/"
        },
        "id": "ajm4T-Ajyxxe",
        "outputId": "eb0b5102-ba13-4dbb-d052-278269311ae0"
      },
      "source": [
        "# Mean Squared Error\n",
        "np.mean((y_pred-y_test.values)**2)"
      ],
      "execution_count": 76,
      "outputs": [
        {
          "output_type": "execute_result",
          "data": {
            "text/plain": [
              "0.22430518588997367"
            ]
          },
          "metadata": {
            "tags": []
          },
          "execution_count": 76
        }
      ]
    },
    {
      "cell_type": "code",
      "metadata": {
        "colab": {
          "base_uri": "https://localhost:8080/"
        },
        "id": "G_YZEZPUyhJ9",
        "outputId": "accdca08-3f6b-48f1-b9f6-578a07bdecc9"
      },
      "source": [
        "# Mean Absolute Error\n",
        "np.mean(np.abs(y_pred-y_test.values))"
      ],
      "execution_count": 77,
      "outputs": [
        {
          "output_type": "execute_result",
          "data": {
            "text/plain": [
              "0.3616742058829231"
            ]
          },
          "metadata": {
            "tags": []
          },
          "execution_count": 77
        }
      ]
    },
    {
      "cell_type": "code",
      "metadata": {
        "colab": {
          "base_uri": "https://localhost:8080/"
        },
        "id": "-d1AcRE3zcjH",
        "outputId": "4eb1c464-2985-4304-8339-7da6fa3e048c"
      },
      "source": [
        "# R2 Score\n",
        "from sklearn.metrics import r2_score\n",
        "r2_score(y_test, y_pred)"
      ],
      "execution_count": 78,
      "outputs": [
        {
          "output_type": "execute_result",
          "data": {
            "text/plain": [
              "0.5161897704625475"
            ]
          },
          "metadata": {
            "tags": []
          },
          "execution_count": 78
        }
      ]
    },
    {
      "cell_type": "code",
      "metadata": {
        "id": "DJ7bMBrc2Smf"
      },
      "source": [
        ""
      ],
      "execution_count": null,
      "outputs": []
    },
    {
      "cell_type": "markdown",
      "metadata": {
        "id": "33qA7PaX1egL"
      },
      "source": [
        "## 3. Triagem com Outros Modelos"
      ]
    },
    {
      "cell_type": "code",
      "metadata": {
        "colab": {
          "base_uri": "https://localhost:8080/"
        },
        "id": "FuZbmao8x68i",
        "outputId": "50973549-b647-471e-aef5-c5f3e58f9e05"
      },
      "source": [
        "from sklearn.linear_model import LinearRegression\n",
        "reg = LinearRegression()\n",
        "reg.fit(X_train, y_train)\n",
        "\n",
        "reg.score(X_test, y_test)"
      ],
      "execution_count": 79,
      "outputs": [
        {
          "output_type": "execute_result",
          "data": {
            "text/plain": [
              "0.608198296027433"
            ]
          },
          "metadata": {
            "tags": []
          },
          "execution_count": 79
        }
      ]
    },
    {
      "cell_type": "code",
      "metadata": {
        "colab": {
          "base_uri": "https://localhost:8080/"
        },
        "id": "6UfiC4Kc14Cd",
        "outputId": "550a1656-590b-4829-8ce2-bf85f4aed941"
      },
      "source": [
        "from sklearn.tree import DecisionTreeRegressor\n",
        "from sklearn.ensemble import RandomForestRegressor\n",
        "from sklearn.neural_network import MLPRegressor\n",
        "from xgboost import XGBRegressor\n",
        "\n",
        "regressor_list = [DecisionTreeRegressor(),\n",
        "                  RandomForestRegressor(),\n",
        "                  MLPRegressor(),\n",
        "                  XGBRegressor(),\n",
        "                  ]\n",
        "\n",
        "for reg in regressor_list:\n",
        "  print('Treinando', reg.__class__.__name__)\n",
        "  reg.fit(X_train, y_train)\n",
        "  train_score = reg.score(X_train, y_train)\n",
        "  test_score = reg.score(X_test, y_test)\n",
        "  print('Train score', train_score)\n",
        "  print('Test score', test_score)\n",
        "  print('='*80)"
      ],
      "execution_count": 82,
      "outputs": [
        {
          "output_type": "stream",
          "text": [
            "Treinando DecisionTreeRegressor\n",
            "Train score 0.873371877020912\n",
            "Test score 0.19057960402687713\n",
            "================================================================================\n",
            "Treinando RandomForestRegressor\n"
          ],
          "name": "stdout"
        },
        {
          "output_type": "stream",
          "text": [
            "/usr/local/lib/python3.6/dist-packages/ipykernel_launcher.py:14: DataConversionWarning: A column-vector y was passed when a 1d array was expected. Please change the shape of y to (n_samples,), for example using ravel().\n",
            "  \n"
          ],
          "name": "stderr"
        },
        {
          "output_type": "stream",
          "text": [
            "Train score 0.8346844945242042\n",
            "Test score 0.42885467387397774\n",
            "================================================================================\n",
            "Treinando MLPRegressor\n"
          ],
          "name": "stdout"
        },
        {
          "output_type": "stream",
          "text": [
            "/usr/local/lib/python3.6/dist-packages/sklearn/neural_network/_multilayer_perceptron.py:1342: DataConversionWarning: A column-vector y was passed when a 1d array was expected. Please change the shape of y to (n_samples, ), for example using ravel().\n",
            "  y = column_or_1d(y, warn=True)\n"
          ],
          "name": "stderr"
        },
        {
          "output_type": "stream",
          "text": [
            "Train score 0.5396649006508168\n",
            "Test score 0.621161165023365\n",
            "================================================================================\n",
            "Treinando XGBRegressor\n",
            "[23:40:28] WARNING: /workspace/src/objective/regression_obj.cu:152: reg:linear is now deprecated in favor of reg:squarederror.\n",
            "Train score 0.6216956272925864\n",
            "Test score 0.6031620068446988\n",
            "================================================================================\n"
          ],
          "name": "stdout"
        },
        {
          "output_type": "stream",
          "text": [
            "/usr/local/lib/python3.6/dist-packages/sklearn/neural_network/_multilayer_perceptron.py:571: ConvergenceWarning: Stochastic Optimizer: Maximum iterations (200) reached and the optimization hasn't converged yet.\n",
            "  % self.max_iter, ConvergenceWarning)\n"
          ],
          "name": "stderr"
        }
      ]
    },
    {
      "cell_type": "code",
      "metadata": {
        "colab": {
          "base_uri": "https://localhost:8080/"
        },
        "id": "8ZwplyJF3GMr",
        "outputId": "b0676783-9a14-4202-9bd5-53f4dfb43a8d"
      },
      "source": [
        "len(X_train)//3"
      ],
      "execution_count": 85,
      "outputs": [
        {
          "output_type": "execute_result",
          "data": {
            "text/plain": [
              "336"
            ]
          },
          "metadata": {
            "tags": []
          },
          "execution_count": 85
        }
      ]
    },
    {
      "cell_type": "code",
      "metadata": {
        "id": "TCdPUxKm3yTY"
      },
      "source": [
        "X1=X_train[:336]\n",
        "X2=X_train[336:2*336]\n",
        "X3=X_train[2*336:]"
      ],
      "execution_count": 88,
      "outputs": []
    },
    {
      "cell_type": "code",
      "metadata": {
        "colab": {
          "base_uri": "https://localhost:8080/"
        },
        "id": "crCgGxhr37gG",
        "outputId": "fd22db2a-1109-4999-9870-baa1db925107"
      },
      "source": [
        "# Repetindo com validação cruzada\n",
        "import warnings\n",
        "warnings.filterwarnings(\"ignore\")\n",
        "from sklearn.tree import DecisionTreeRegressor\n",
        "from sklearn.ensemble import RandomForestRegressor\n",
        "from sklearn.neural_network import MLPRegressor\n",
        "from xgboost import XGBRegressor\n",
        "from sklearn.model_selection import cross_val_score\n",
        "\n",
        "\n",
        "regressor_list = [DecisionTreeRegressor(),\n",
        "                  RandomForestRegressor(),\n",
        "                  MLPRegressor(),\n",
        "                  XGBRegressor(),\n",
        "                  ]\n",
        "\n",
        "for reg in regressor_list:\n",
        "  print('Treinando', reg.__class__.__name__)\n",
        "  reg.fit(X_train, y_train)\n",
        "  train_score = reg.score(X_train, y_train)\n",
        "  val_score = cross_val_score(reg, X_train, y_train, cv=3)\n",
        "  test_score = reg.score(X_test, y_test)\n",
        "  print('Train score', train_score)\n",
        "  print('Validation score', val_score)\n",
        "  print('Test score', test_score)\n",
        "  print('='*80)"
      ],
      "execution_count": 90,
      "outputs": [
        {
          "output_type": "stream",
          "text": [
            "Treinando DecisionTreeRegressor\n",
            "Train score 0.873371877020912\n",
            "Validation score [-0.08667679  0.29177295  0.32704026]\n",
            "Test score 0.19164895412537397\n",
            "================================================================================\n",
            "Treinando RandomForestRegressor\n",
            "Train score 0.8246171163217598\n",
            "Validation score [0.38909998 0.42697731 0.40295247]\n",
            "Test score 0.4791743555108417\n",
            "================================================================================\n",
            "Treinando MLPRegressor\n",
            "Train score 0.538230888832081\n",
            "Validation score [0.47803568 0.55485891 0.54032809]\n",
            "Test score 0.6083513510408592\n",
            "================================================================================\n",
            "Treinando XGBRegressor\n",
            "[23:48:08] WARNING: /workspace/src/objective/regression_obj.cu:152: reg:linear is now deprecated in favor of reg:squarederror.\n",
            "[23:48:08] WARNING: /workspace/src/objective/regression_obj.cu:152: reg:linear is now deprecated in favor of reg:squarederror.\n",
            "[23:48:08] WARNING: /workspace/src/objective/regression_obj.cu:152: reg:linear is now deprecated in favor of reg:squarederror.\n",
            "[23:48:09] WARNING: /workspace/src/objective/regression_obj.cu:152: reg:linear is now deprecated in favor of reg:squarederror.\n",
            "Train score 0.6216956272925864\n",
            "Validation score [0.47611934 0.46217938 0.51580278]\n",
            "Test score 0.6031620068446988\n",
            "================================================================================\n"
          ],
          "name": "stdout"
        }
      ]
    },
    {
      "cell_type": "code",
      "metadata": {
        "colab": {
          "base_uri": "https://localhost:8080/"
        },
        "id": "Gko6R35j4z0P",
        "outputId": "925bb5f7-bb3f-4755-efe1-a0898386333e"
      },
      "source": [
        "# TODO: Calibração de modelo\n",
        "from sklearn.model_selection import GridSearchCV\n",
        "parameters=[{'learning_rate':[0.1,0.2,0.3,0.4],\n",
        "             'max_depth':[3,4,5,6,7,8],\n",
        "             'n_estimators':[50, 100, 200]}]\n",
        "            \n",
        "xgb = XGBRegressor(n_estimators=100, max_depth=1)\n",
        "gs = GridSearchCV(xgb,parameters,scoring='r2',n_jobs=-1,cv=3)\n",
        "gs.fit(X_train, y_train)"
      ],
      "execution_count": 102,
      "outputs": [
        {
          "output_type": "stream",
          "text": [
            "[23:57:40] WARNING: /workspace/src/objective/regression_obj.cu:152: reg:linear is now deprecated in favor of reg:squarederror.\n"
          ],
          "name": "stdout"
        },
        {
          "output_type": "execute_result",
          "data": {
            "text/plain": [
              "GridSearchCV(cv=3, error_score=nan,\n",
              "             estimator=XGBRegressor(base_score=0.5, booster='gbtree',\n",
              "                                    colsample_bylevel=1, colsample_bynode=1,\n",
              "                                    colsample_bytree=1, gamma=0,\n",
              "                                    importance_type='gain', learning_rate=0.1,\n",
              "                                    max_delta_step=0, max_depth=1,\n",
              "                                    min_child_weight=1, missing=None,\n",
              "                                    n_estimators=100, n_jobs=1, nthread=None,\n",
              "                                    objective='reg:linear', random_state=0,\n",
              "                                    reg_alpha=0, reg_lambda=1,\n",
              "                                    scale_pos_weight=1, seed=None, silent=None,\n",
              "                                    subsample=1, verbosity=1),\n",
              "             iid='deprecated', n_jobs=-1,\n",
              "             param_grid=[{'learning_rate': [0.1, 0.2, 0.3, 0.4],\n",
              "                          'max_depth': [3, 4, 5, 6, 7, 8],\n",
              "                          'n_estimators': [50, 100, 200]}],\n",
              "             pre_dispatch='2*n_jobs', refit=True, return_train_score=False,\n",
              "             scoring='r2', verbose=0)"
            ]
          },
          "metadata": {
            "tags": []
          },
          "execution_count": 102
        }
      ]
    },
    {
      "cell_type": "code",
      "metadata": {
        "colab": {
          "base_uri": "https://localhost:8080/"
        },
        "id": "xpBPXnlO7J0w",
        "outputId": "6372eb49-380d-43e9-b9b6-3c741c5dc4c8"
      },
      "source": [
        "gs.best_params_"
      ],
      "execution_count": 103,
      "outputs": [
        {
          "output_type": "execute_result",
          "data": {
            "text/plain": [
              "{'learning_rate': 0.1, 'max_depth': 3, 'n_estimators': 50}"
            ]
          },
          "metadata": {
            "tags": []
          },
          "execution_count": 103
        }
      ]
    },
    {
      "cell_type": "code",
      "metadata": {
        "id": "V4Ftl8qW7Ppe"
      },
      "source": [
        "reg = gs.best_estimator_"
      ],
      "execution_count": 104,
      "outputs": []
    },
    {
      "cell_type": "code",
      "metadata": {
        "colab": {
          "base_uri": "https://localhost:8080/"
        },
        "id": "OZQ49V27556p",
        "outputId": "e837c1f4-78d7-4390-b64d-95b8417ad548"
      },
      "source": [
        "train_score = reg.score(X_train, y_train)\n",
        "val_score = cross_val_score(reg, X_train, y_train, cv=3)\n",
        "test_score = reg.score(X_test, y_test)\n",
        "print('Train score', train_score)\n",
        "print('Validation score', val_score)\n",
        "print('Test score', test_score)"
      ],
      "execution_count": 105,
      "outputs": [
        {
          "output_type": "stream",
          "text": [
            "[23:58:08] WARNING: /workspace/src/objective/regression_obj.cu:152: reg:linear is now deprecated in favor of reg:squarederror.\n",
            "[23:58:08] WARNING: /workspace/src/objective/regression_obj.cu:152: reg:linear is now deprecated in favor of reg:squarederror.\n",
            "[23:58:08] WARNING: /workspace/src/objective/regression_obj.cu:152: reg:linear is now deprecated in favor of reg:squarederror.\n",
            "Train score 0.5789568757784442\n",
            "Validation score [0.4992717  0.51989244 0.50999327]\n",
            "Test score 0.6060030969986206\n"
          ],
          "name": "stdout"
        }
      ]
    },
    {
      "cell_type": "code",
      "metadata": {
        "id": "P21NNI2n7S0B"
      },
      "source": [
        "import pickle\n",
        "# now you can save it to a file\n",
        "with open('xgboost_regression.pkl', 'wb') as f:\n",
        "    pickle.dump(reg, f)\n",
        "\n",
        "## and later you can load it\n",
        "#with open('filename.pkl', 'rb') as f:\n",
        "#    clf = pickle.load(f)"
      ],
      "execution_count": 106,
      "outputs": []
    },
    {
      "cell_type": "code",
      "metadata": {
        "id": "urn0sNEd77SI"
      },
      "source": [
        ""
      ],
      "execution_count": null,
      "outputs": []
    }
  ]
}