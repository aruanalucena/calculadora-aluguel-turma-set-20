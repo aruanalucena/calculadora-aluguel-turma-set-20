{
  "nbformat": 4,
  "nbformat_minor": 0,
  "metadata": {
    "colab": {
      "name": "manipulacao-ml-pandas-clean-code.ipynb",
      "provenance": [],
      "collapsed_sections": [],
      "authorship_tag": "ABX9TyP0UPOxebv9yAtqexSDS2qH",
      "include_colab_link": true
    },
    "kernelspec": {
      "name": "python3",
      "display_name": "Python 3"
    }
  },
  "cells": [
    {
      "cell_type": "markdown",
      "metadata": {
        "id": "view-in-github",
        "colab_type": "text"
      },
      "source": [
        "<a href=\"https://colab.research.google.com/github/fernandoawari/calculadora-aluguel-turma-set-20/blob/main/2-manipulacao/manipulacao_ml_pandas_clean_code.ipynb\" target=\"_parent\"><img src=\"https://colab.research.google.com/assets/colab-badge.svg\" alt=\"Open In Colab\"/></a>"
      ]
    },
    {
      "cell_type": "code",
      "metadata": {
        "id": "o1WgZzFmdvkK"
      },
      "source": [
        "# Importações\n",
        "import pandas as pd\n",
        "import numpy as np\n",
        "import re"
      ],
      "execution_count": 2,
      "outputs": []
    },
    {
      "cell_type": "code",
      "metadata": {
        "id": "sychvyRLeATj"
      },
      "source": [
        "# Parâmetros\n",
        "url = 'https://raw.githubusercontent.com/fernandoawari/calculadora-aluguel-turma-set-20/main/1-web-scraping/dados_aluguel_ml_sao_paulo.csv'"
      ],
      "execution_count": 3,
      "outputs": []
    },
    {
      "cell_type": "code",
      "metadata": {
        "id": "lWjH0XF4temD"
      },
      "source": [
        "# Funções\n",
        "def extrair_area(entrada):\n",
        "  \"\"\"Criar função que possua como entrada um texto e retorne a área contida no\n",
        "  mesmo. Retornar np.nan se for ausentes. Alguns exemplos:\n",
        "      >>> extrair_area('79 m² construídos1 quarto')\n",
        "      >>> 79\n",
        "      >>> extrair_area('280 m² construídos')\n",
        "      >>> 280\n",
        "      >>> extrair_area('2,600 m² construídos'\n",
        "      >>> 2600\n",
        "      >>> extrair_area('2 quartos')\n",
        "      >>> np.nan\n",
        "      \"\"\"\n",
        "  if ' m²' in entrada:\n",
        "    area = entrada.split(' m²')[0]\n",
        "    area = area.replace(',', '')\n",
        "  else:\n",
        "    area = np.nan\n",
        "  return area\n",
        "\n",
        "def extrair_quartos(entrada):\n",
        "  \"\"\"Criar função que possua como entrada um texto e retorne uma tupla com a \n",
        "  área e o quarto. Retornar np.nan se um dos dois for ausentes. Alguns exemplos:\n",
        "      >>> extrair_quarto('79 m² construídos1 quarto')\n",
        "      >>> 1\n",
        "      >>> extrair_quarto('280 m² construídos')\n",
        "      >>> np.nan\n",
        "      >>> extrair_quarto('2,600 m² construídos'\n",
        "      >>> np.nan\n",
        "      >>> extrair_quarto('2 quartos')\n",
        "      >>> 2\"\"\"\n",
        "  if 'quarto' in entrada:\n",
        "    n_quartos = re.findall('(\\d*) quarto', entrada)[0]\n",
        "  else:\n",
        "    n_quartos = np.nan\n",
        "  return n_quartos"
      ],
      "execution_count": 4,
      "outputs": []
    },
    {
      "cell_type": "code",
      "metadata": {
        "id": "lWlR37fnd8Lv"
      },
      "source": [
        "# Execução\n",
        "df = pd.read_csv(url, thousands='.')"
      ],
      "execution_count": 5,
      "outputs": []
    },
    {
      "cell_type": "code",
      "metadata": {
        "id": "ccnUdTF0gTIq"
      },
      "source": [
        "df['area']=df['area_quartos'].apply(extrair_area).astype(float)"
      ],
      "execution_count": 6,
      "outputs": []
    },
    {
      "cell_type": "code",
      "metadata": {
        "id": "47p7mXPgmfNE"
      },
      "source": [
        "df['quartos'] = df['area_quartos'].apply(extrair_quartos).astype(float)"
      ],
      "execution_count": 8,
      "outputs": []
    },
    {
      "cell_type": "code",
      "metadata": {
        "id": "_dMW8nmImUkk"
      },
      "source": [
        "df = df.drop('area_quartos', axis=1)"
      ],
      "execution_count": 9,
      "outputs": []
    },
    {
      "cell_type": "code",
      "metadata": {
        "id": "8-fIjbw8osOe"
      },
      "source": [
        "cols = ['zona', 'enderecos_lista', 'area', 'quartos', 'aluguel']"
      ],
      "execution_count": 10,
      "outputs": []
    },
    {
      "cell_type": "code",
      "metadata": {
        "id": "LgpF7m3toMPj"
      },
      "source": [
        "df=df[cols]"
      ],
      "execution_count": 11,
      "outputs": []
    },
    {
      "cell_type": "code",
      "metadata": {
        "id": "tkDeKHB2olXU",
        "outputId": "a71b8a8a-04d4-4f14-cab3-57c47d217db9",
        "colab": {
          "base_uri": "https://localhost:8080/",
          "height": 195
        }
      },
      "source": [
        "df.head()"
      ],
      "execution_count": 12,
      "outputs": [
        {
          "output_type": "execute_result",
          "data": {
            "text/html": [
              "<div>\n",
              "<style scoped>\n",
              "    .dataframe tbody tr th:only-of-type {\n",
              "        vertical-align: middle;\n",
              "    }\n",
              "\n",
              "    .dataframe tbody tr th {\n",
              "        vertical-align: top;\n",
              "    }\n",
              "\n",
              "    .dataframe thead th {\n",
              "        text-align: right;\n",
              "    }\n",
              "</style>\n",
              "<table border=\"1\" class=\"dataframe\">\n",
              "  <thead>\n",
              "    <tr style=\"text-align: right;\">\n",
              "      <th></th>\n",
              "      <th>zona</th>\n",
              "      <th>enderecos_lista</th>\n",
              "      <th>area</th>\n",
              "      <th>quartos</th>\n",
              "      <th>aluguel</th>\n",
              "    </tr>\n",
              "  </thead>\n",
              "  <tbody>\n",
              "    <tr>\n",
              "      <th>0</th>\n",
              "      <td>norte</td>\n",
              "      <td>Praça Rafael Mendes De Carvalho, Jardim Paraís...</td>\n",
              "      <td>50.0</td>\n",
              "      <td>2.0</td>\n",
              "      <td>1150</td>\n",
              "    </tr>\n",
              "    <tr>\n",
              "      <th>1</th>\n",
              "      <td>norte</td>\n",
              "      <td>Rua Almirante Noronha, Jardim São Paulo, São P...</td>\n",
              "      <td>76.0</td>\n",
              "      <td>3.0</td>\n",
              "      <td>1480</td>\n",
              "    </tr>\n",
              "    <tr>\n",
              "      <th>2</th>\n",
              "      <td>norte</td>\n",
              "      <td>Rua Cássio De Almeida, Vila Guilherme, São Pau...</td>\n",
              "      <td>30.0</td>\n",
              "      <td>1.0</td>\n",
              "      <td>800</td>\n",
              "    </tr>\n",
              "    <tr>\n",
              "      <th>3</th>\n",
              "      <td>norte</td>\n",
              "      <td>Rua Cabo José Da Silva, Parque Novo Mundo, São...</td>\n",
              "      <td>80.0</td>\n",
              "      <td>3.0</td>\n",
              "      <td>1180</td>\n",
              "    </tr>\n",
              "    <tr>\n",
              "      <th>4</th>\n",
              "      <td>norte</td>\n",
              "      <td>Parque Domingos Luís, Jardim São Paulo, São Pa...</td>\n",
              "      <td>70.0</td>\n",
              "      <td>2.0</td>\n",
              "      <td>1300</td>\n",
              "    </tr>\n",
              "  </tbody>\n",
              "</table>\n",
              "</div>"
            ],
            "text/plain": [
              "    zona                                    enderecos_lista  ...  quartos  aluguel\n",
              "0  norte  Praça Rafael Mendes De Carvalho, Jardim Paraís...  ...      2.0     1150\n",
              "1  norte  Rua Almirante Noronha, Jardim São Paulo, São P...  ...      3.0     1480\n",
              "2  norte  Rua Cássio De Almeida, Vila Guilherme, São Pau...  ...      1.0      800\n",
              "3  norte  Rua Cabo José Da Silva, Parque Novo Mundo, São...  ...      3.0     1180\n",
              "4  norte  Parque Domingos Luís, Jardim São Paulo, São Pa...  ...      2.0     1300\n",
              "\n",
              "[5 rows x 5 columns]"
            ]
          },
          "metadata": {
            "tags": []
          },
          "execution_count": 12
        }
      ]
    },
    {
      "cell_type": "code",
      "metadata": {
        "id": "A_yRUdxco0V_"
      },
      "source": [
        "df.to_csv('dados_aluguel_ml_sao_paulo_preprocessado.csv', index=False)"
      ],
      "execution_count": 13,
      "outputs": []
    },
    {
      "cell_type": "code",
      "metadata": {
        "id": "N3OhtLauq7fL"
      },
      "source": [
        ""
      ],
      "execution_count": null,
      "outputs": []
    }
  ]
}