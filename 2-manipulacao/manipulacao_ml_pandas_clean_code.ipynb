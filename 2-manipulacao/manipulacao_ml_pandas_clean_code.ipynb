{
  "nbformat": 4,
  "nbformat_minor": 0,
  "metadata": {
    "colab": {
      "name": "manipulacao-ml-pandas-clean-code.ipynb",
      "provenance": [],
      "collapsed_sections": [],
      "toc_visible": true,
      "authorship_tag": "ABX9TyP6dJB/bztvXBDH/QRN/ArG",
      "include_colab_link": true
    },
    "kernelspec": {
      "name": "python3",
      "display_name": "Python 3"
    }
  },
  "cells": [
    {
      "cell_type": "markdown",
      "metadata": {
        "id": "view-in-github",
        "colab_type": "text"
      },
      "source": [
        "<a href=\"https://colab.research.google.com/github/fernandoawari/calculadora-aluguel-turma-set-20/blob/main/2-manipulacao/manipulacao_ml_pandas_clean_code.ipynb\" target=\"_parent\"><img src=\"https://colab.research.google.com/assets/colab-badge.svg\" alt=\"Open In Colab\"/></a>"
      ]
    },
    {
      "cell_type": "code",
      "metadata": {
        "id": "o1WgZzFmdvkK"
      },
      "source": [
        "# Importações\n",
        "import pandas as pd\n",
        "import numpy as np\n",
        "import re"
      ],
      "execution_count": 2,
      "outputs": []
    },
    {
      "cell_type": "code",
      "metadata": {
        "id": "sychvyRLeATj"
      },
      "source": [
        "# Parâmetros\n",
        "url = 'https://raw.githubusercontent.com/fernandoawari/calculadora-aluguel-turma-set-20/main/1-web-scraping/dados_aluguel_ml_sao_paulo.csv'"
      ],
      "execution_count": 3,
      "outputs": []
    },
    {
      "cell_type": "code",
      "metadata": {
        "id": "lWjH0XF4temD"
      },
      "source": [
        "# Funções\n",
        "def extrair_area(entrada):\n",
        "  \"\"\"Criar função que possua como entrada um texto e retorne a área contida no\n",
        "  mesmo. Retornar np.nan se for ausentes. Alguns exemplos:\n",
        "      >>> extrair_area('79 m² construídos1 quarto')\n",
        "      >>> 79\n",
        "      >>> extrair_area('280 m² construídos')\n",
        "      >>> 280\n",
        "      >>> extrair_area('2,600 m² construídos'\n",
        "      >>> 2600\n",
        "      >>> extrair_area('2 quartos')\n",
        "      >>> np.nan\n",
        "      \"\"\"\n",
        "  if ' m²' in entrada:\n",
        "    area = entrada.split(' m²')[0]\n",
        "    area = area.replace(',', '')\n",
        "  else:\n",
        "    area = np.nan\n",
        "  return area\n",
        "\n",
        "def extrair_quartos(entrada):\n",
        "  \"\"\"Criar função que possua como entrada um texto e retorne uma tupla com a \n",
        "  área e o quarto. Retornar np.nan se um dos dois for ausentes. Alguns exemplos:\n",
        "      >>> extrair_quarto('79 m² construídos1 quarto')\n",
        "      >>> 1\n",
        "      >>> extrair_quarto('280 m² construídos')\n",
        "      >>> np.nan\n",
        "      >>> extrair_quarto('2,600 m² construídos'\n",
        "      >>> np.nan\n",
        "      >>> extrair_quarto('2 quartos')\n",
        "      >>> 2\"\"\"\n",
        "  if 'quarto' in entrada:\n",
        "    n_quartos = re.findall('(\\d*) quarto', entrada)[0]\n",
        "  else:\n",
        "    n_quartos = np.nan\n",
        "  return n_quartos"
      ],
      "execution_count": 4,
      "outputs": []
    },
    {
      "cell_type": "code",
      "metadata": {
        "id": "lWlR37fnd8Lv"
      },
      "source": [
        "# Execução\n",
        "df = pd.read_csv(url, thousands='.')"
      ],
      "execution_count": 5,
      "outputs": []
    },
    {
      "cell_type": "code",
      "metadata": {
        "id": "ccnUdTF0gTIq"
      },
      "source": [
        "df['area']=df['area_quartos'].apply(extrair_area).astype(float)"
      ],
      "execution_count": 6,
      "outputs": []
    },
    {
      "cell_type": "code",
      "metadata": {
        "id": "47p7mXPgmfNE"
      },
      "source": [
        "df['quartos'] = df['area_quartos'].apply(extrair_quartos).astype(float)"
      ],
      "execution_count": 8,
      "outputs": []
    },
    {
      "cell_type": "code",
      "metadata": {
        "id": "_dMW8nmImUkk"
      },
      "source": [
        "df = df.drop('area_quartos', axis=1)"
      ],
      "execution_count": 9,
      "outputs": []
    },
    {
      "cell_type": "code",
      "metadata": {
        "id": "8-fIjbw8osOe"
      },
      "source": [
        "cols = ['zona', 'enderecos_lista', 'area', 'quartos', 'aluguel']"
      ],
      "execution_count": 10,
      "outputs": []
    },
    {
      "cell_type": "code",
      "metadata": {
        "id": "LgpF7m3toMPj"
      },
      "source": [
        "df=df[cols]"
      ],
      "execution_count": 11,
      "outputs": []
    },
    {
      "cell_type": "code",
      "metadata": {
        "id": "tkDeKHB2olXU",
        "outputId": "a71b8a8a-04d4-4f14-cab3-57c47d217db9",
        "colab": {
          "base_uri": "https://localhost:8080/",
          "height": 195
        }
      },
      "source": [
        "df.head()"
      ],
      "execution_count": 12,
      "outputs": [
        {
          "output_type": "execute_result",
          "data": {
            "text/html": [
              "<div>\n",
              "<style scoped>\n",
              "    .dataframe tbody tr th:only-of-type {\n",
              "        vertical-align: middle;\n",
              "    }\n",
              "\n",
              "    .dataframe tbody tr th {\n",
              "        vertical-align: top;\n",
              "    }\n",
              "\n",
              "    .dataframe thead th {\n",
              "        text-align: right;\n",
              "    }\n",
              "</style>\n",
              "<table border=\"1\" class=\"dataframe\">\n",
              "  <thead>\n",
              "    <tr style=\"text-align: right;\">\n",
              "      <th></th>\n",
              "      <th>zona</th>\n",
              "      <th>enderecos_lista</th>\n",
              "      <th>area</th>\n",
              "      <th>quartos</th>\n",
              "      <th>aluguel</th>\n",
              "    </tr>\n",
              "  </thead>\n",
              "  <tbody>\n",
              "    <tr>\n",
              "      <th>0</th>\n",
              "      <td>norte</td>\n",
              "      <td>Praça Rafael Mendes De Carvalho, Jardim Paraís...</td>\n",
              "      <td>50.0</td>\n",
              "      <td>2.0</td>\n",
              "      <td>1150</td>\n",
              "    </tr>\n",
              "    <tr>\n",
              "      <th>1</th>\n",
              "      <td>norte</td>\n",
              "      <td>Rua Almirante Noronha, Jardim São Paulo, São P...</td>\n",
              "      <td>76.0</td>\n",
              "      <td>3.0</td>\n",
              "      <td>1480</td>\n",
              "    </tr>\n",
              "    <tr>\n",
              "      <th>2</th>\n",
              "      <td>norte</td>\n",
              "      <td>Rua Cássio De Almeida, Vila Guilherme, São Pau...</td>\n",
              "      <td>30.0</td>\n",
              "      <td>1.0</td>\n",
              "      <td>800</td>\n",
              "    </tr>\n",
              "    <tr>\n",
              "      <th>3</th>\n",
              "      <td>norte</td>\n",
              "      <td>Rua Cabo José Da Silva, Parque Novo Mundo, São...</td>\n",
              "      <td>80.0</td>\n",
              "      <td>3.0</td>\n",
              "      <td>1180</td>\n",
              "    </tr>\n",
              "    <tr>\n",
              "      <th>4</th>\n",
              "      <td>norte</td>\n",
              "      <td>Parque Domingos Luís, Jardim São Paulo, São Pa...</td>\n",
              "      <td>70.0</td>\n",
              "      <td>2.0</td>\n",
              "      <td>1300</td>\n",
              "    </tr>\n",
              "  </tbody>\n",
              "</table>\n",
              "</div>"
            ],
            "text/plain": [
              "    zona                                    enderecos_lista  ...  quartos  aluguel\n",
              "0  norte  Praça Rafael Mendes De Carvalho, Jardim Paraís...  ...      2.0     1150\n",
              "1  norte  Rua Almirante Noronha, Jardim São Paulo, São P...  ...      3.0     1480\n",
              "2  norte  Rua Cássio De Almeida, Vila Guilherme, São Pau...  ...      1.0      800\n",
              "3  norte  Rua Cabo José Da Silva, Parque Novo Mundo, São...  ...      3.0     1180\n",
              "4  norte  Parque Domingos Luís, Jardim São Paulo, São Pa...  ...      2.0     1300\n",
              "\n",
              "[5 rows x 5 columns]"
            ]
          },
          "metadata": {
            "tags": []
          },
          "execution_count": 12
        }
      ]
    },
    {
      "cell_type": "code",
      "metadata": {
        "id": "A_yRUdxco0V_"
      },
      "source": [
        "df.to_csv('dados_aluguel_ml_sao_paulo_preprocessado.csv', index=False)"
      ],
      "execution_count": 13,
      "outputs": []
    },
    {
      "cell_type": "code",
      "metadata": {
        "id": "3Mh14cpspjyh",
        "outputId": "7cb822d9-7aaa-45a3-8f12-1ad184e1b426",
        "colab": {
          "base_uri": "https://localhost:8080/",
          "height": 402
        }
      },
      "source": [
        "pd.read_csv('dados_aluguel_ml_sao_paulo_preprocessado.csv')"
      ],
      "execution_count": null,
      "outputs": [
        {
          "output_type": "execute_result",
          "data": {
            "text/html": [
              "<div>\n",
              "<style scoped>\n",
              "    .dataframe tbody tr th:only-of-type {\n",
              "        vertical-align: middle;\n",
              "    }\n",
              "\n",
              "    .dataframe tbody tr th {\n",
              "        vertical-align: top;\n",
              "    }\n",
              "\n",
              "    .dataframe thead th {\n",
              "        text-align: right;\n",
              "    }\n",
              "</style>\n",
              "<table border=\"1\" class=\"dataframe\">\n",
              "  <thead>\n",
              "    <tr style=\"text-align: right;\">\n",
              "      <th></th>\n",
              "      <th>zona</th>\n",
              "      <th>enderecos_lista</th>\n",
              "      <th>area</th>\n",
              "      <th>quartos</th>\n",
              "      <th>aluguel</th>\n",
              "    </tr>\n",
              "  </thead>\n",
              "  <tbody>\n",
              "    <tr>\n",
              "      <th>0</th>\n",
              "      <td>norte</td>\n",
              "      <td>Praça Rafael Mendes De Carvalho, Jardim Paraís...</td>\n",
              "      <td>50.0</td>\n",
              "      <td>2.0</td>\n",
              "      <td>1150</td>\n",
              "    </tr>\n",
              "    <tr>\n",
              "      <th>1</th>\n",
              "      <td>norte</td>\n",
              "      <td>Rua Almirante Noronha, Jardim São Paulo, São P...</td>\n",
              "      <td>76.0</td>\n",
              "      <td>3.0</td>\n",
              "      <td>1480</td>\n",
              "    </tr>\n",
              "    <tr>\n",
              "      <th>2</th>\n",
              "      <td>norte</td>\n",
              "      <td>Rua Cássio De Almeida, Vila Guilherme, São Pau...</td>\n",
              "      <td>30.0</td>\n",
              "      <td>1.0</td>\n",
              "      <td>800</td>\n",
              "    </tr>\n",
              "    <tr>\n",
              "      <th>3</th>\n",
              "      <td>norte</td>\n",
              "      <td>Rua Cabo José Da Silva, Parque Novo Mundo, São...</td>\n",
              "      <td>80.0</td>\n",
              "      <td>3.0</td>\n",
              "      <td>1180</td>\n",
              "    </tr>\n",
              "    <tr>\n",
              "      <th>4</th>\n",
              "      <td>norte</td>\n",
              "      <td>Parque Domingos Luís, Jardim São Paulo, São Pa...</td>\n",
              "      <td>70.0</td>\n",
              "      <td>2.0</td>\n",
              "      <td>1300</td>\n",
              "    </tr>\n",
              "    <tr>\n",
              "      <th>...</th>\n",
              "      <td>...</td>\n",
              "      <td>...</td>\n",
              "      <td>...</td>\n",
              "      <td>...</td>\n",
              "      <td>...</td>\n",
              "    </tr>\n",
              "    <tr>\n",
              "      <th>1339</th>\n",
              "      <td>oeste</td>\n",
              "      <td>Rua Piauí, Higienópolis, São Paulo Zona Oeste,...</td>\n",
              "      <td>480.0</td>\n",
              "      <td>4.0</td>\n",
              "      <td>13280</td>\n",
              "    </tr>\n",
              "    <tr>\n",
              "      <th>1340</th>\n",
              "      <td>oeste</td>\n",
              "      <td>Rua Doutor Aires Martins Torres, Vila São Fran...</td>\n",
              "      <td>620.0</td>\n",
              "      <td>4.0</td>\n",
              "      <td>15000</td>\n",
              "    </tr>\n",
              "    <tr>\n",
              "      <th>1341</th>\n",
              "      <td>oeste</td>\n",
              "      <td>Rua Doutor Martins De Oliveira, Jardim Londrin...</td>\n",
              "      <td>64.0</td>\n",
              "      <td>3.0</td>\n",
              "      <td>2390</td>\n",
              "    </tr>\n",
              "    <tr>\n",
              "      <th>1342</th>\n",
              "      <td>oeste</td>\n",
              "      <td>Rua Natingui, Vila Madalena, São Paulo Zona Oe...</td>\n",
              "      <td>44.0</td>\n",
              "      <td>1.0</td>\n",
              "      <td>3600</td>\n",
              "    </tr>\n",
              "    <tr>\n",
              "      <th>1343</th>\n",
              "      <td>oeste</td>\n",
              "      <td>Rua Amaro Cavalheiro, Pinheiros, São Paulo Zon...</td>\n",
              "      <td>150.0</td>\n",
              "      <td>3.0</td>\n",
              "      <td>4000</td>\n",
              "    </tr>\n",
              "  </tbody>\n",
              "</table>\n",
              "<p>1344 rows × 5 columns</p>\n",
              "</div>"
            ],
            "text/plain": [
              "       zona  ... aluguel\n",
              "0     norte  ...    1150\n",
              "1     norte  ...    1480\n",
              "2     norte  ...     800\n",
              "3     norte  ...    1180\n",
              "4     norte  ...    1300\n",
              "...     ...  ...     ...\n",
              "1339  oeste  ...   13280\n",
              "1340  oeste  ...   15000\n",
              "1341  oeste  ...    2390\n",
              "1342  oeste  ...    3600\n",
              "1343  oeste  ...    4000\n",
              "\n",
              "[1344 rows x 5 columns]"
            ]
          },
          "metadata": {
            "tags": []
          },
          "execution_count": 73
        }
      ]
    },
    {
      "cell_type": "code",
      "metadata": {
        "id": "Jv1Tv4AypvtW",
        "outputId": "511a494b-f262-4357-9564-a1dfc0804477",
        "colab": {
          "base_uri": "https://localhost:8080/"
        }
      },
      "source": [
        "df.info()"
      ],
      "execution_count": null,
      "outputs": [
        {
          "output_type": "stream",
          "text": [
            "<class 'pandas.core.frame.DataFrame'>\n",
            "RangeIndex: 1344 entries, 0 to 1343\n",
            "Data columns (total 5 columns):\n",
            " #   Column           Non-Null Count  Dtype  \n",
            "---  ------           --------------  -----  \n",
            " 0   zona             1344 non-null   object \n",
            " 1   enderecos_lista  1344 non-null   object \n",
            " 2   area             1341 non-null   float64\n",
            " 3   quartos          1273 non-null   float64\n",
            " 4   aluguel          1344 non-null   int64  \n",
            "dtypes: float64(2), int64(1), object(2)\n",
            "memory usage: 52.6+ KB\n"
          ],
          "name": "stdout"
        }
      ]
    },
    {
      "cell_type": "markdown",
      "metadata": {
        "id": "6pAWmhMlp8Qf"
      },
      "source": [
        "### Lidando com Dados Ausentes"
      ]
    },
    {
      "cell_type": "code",
      "metadata": {
        "id": "ALve_SVipZKU",
        "outputId": "de19b7bb-e756-4958-882e-966900ea038d",
        "colab": {
          "base_uri": "https://localhost:8080/",
          "height": 402
        }
      },
      "source": [
        "df.dropna()"
      ],
      "execution_count": null,
      "outputs": [
        {
          "output_type": "execute_result",
          "data": {
            "text/html": [
              "<div>\n",
              "<style scoped>\n",
              "    .dataframe tbody tr th:only-of-type {\n",
              "        vertical-align: middle;\n",
              "    }\n",
              "\n",
              "    .dataframe tbody tr th {\n",
              "        vertical-align: top;\n",
              "    }\n",
              "\n",
              "    .dataframe thead th {\n",
              "        text-align: right;\n",
              "    }\n",
              "</style>\n",
              "<table border=\"1\" class=\"dataframe\">\n",
              "  <thead>\n",
              "    <tr style=\"text-align: right;\">\n",
              "      <th></th>\n",
              "      <th>zona</th>\n",
              "      <th>enderecos_lista</th>\n",
              "      <th>area</th>\n",
              "      <th>quartos</th>\n",
              "      <th>aluguel</th>\n",
              "    </tr>\n",
              "  </thead>\n",
              "  <tbody>\n",
              "    <tr>\n",
              "      <th>0</th>\n",
              "      <td>norte</td>\n",
              "      <td>Praça Rafael Mendes De Carvalho, Jardim Paraís...</td>\n",
              "      <td>50.0</td>\n",
              "      <td>2.0</td>\n",
              "      <td>1150</td>\n",
              "    </tr>\n",
              "    <tr>\n",
              "      <th>1</th>\n",
              "      <td>norte</td>\n",
              "      <td>Rua Almirante Noronha, Jardim São Paulo, São P...</td>\n",
              "      <td>76.0</td>\n",
              "      <td>3.0</td>\n",
              "      <td>1480</td>\n",
              "    </tr>\n",
              "    <tr>\n",
              "      <th>2</th>\n",
              "      <td>norte</td>\n",
              "      <td>Rua Cássio De Almeida, Vila Guilherme, São Pau...</td>\n",
              "      <td>30.0</td>\n",
              "      <td>1.0</td>\n",
              "      <td>800</td>\n",
              "    </tr>\n",
              "    <tr>\n",
              "      <th>3</th>\n",
              "      <td>norte</td>\n",
              "      <td>Rua Cabo José Da Silva, Parque Novo Mundo, São...</td>\n",
              "      <td>80.0</td>\n",
              "      <td>3.0</td>\n",
              "      <td>1180</td>\n",
              "    </tr>\n",
              "    <tr>\n",
              "      <th>4</th>\n",
              "      <td>norte</td>\n",
              "      <td>Parque Domingos Luís, Jardim São Paulo, São Pa...</td>\n",
              "      <td>70.0</td>\n",
              "      <td>2.0</td>\n",
              "      <td>1300</td>\n",
              "    </tr>\n",
              "    <tr>\n",
              "      <th>...</th>\n",
              "      <td>...</td>\n",
              "      <td>...</td>\n",
              "      <td>...</td>\n",
              "      <td>...</td>\n",
              "      <td>...</td>\n",
              "    </tr>\n",
              "    <tr>\n",
              "      <th>1339</th>\n",
              "      <td>oeste</td>\n",
              "      <td>Rua Piauí, Higienópolis, São Paulo Zona Oeste,...</td>\n",
              "      <td>480.0</td>\n",
              "      <td>4.0</td>\n",
              "      <td>13280</td>\n",
              "    </tr>\n",
              "    <tr>\n",
              "      <th>1340</th>\n",
              "      <td>oeste</td>\n",
              "      <td>Rua Doutor Aires Martins Torres, Vila São Fran...</td>\n",
              "      <td>620.0</td>\n",
              "      <td>4.0</td>\n",
              "      <td>15000</td>\n",
              "    </tr>\n",
              "    <tr>\n",
              "      <th>1341</th>\n",
              "      <td>oeste</td>\n",
              "      <td>Rua Doutor Martins De Oliveira, Jardim Londrin...</td>\n",
              "      <td>64.0</td>\n",
              "      <td>3.0</td>\n",
              "      <td>2390</td>\n",
              "    </tr>\n",
              "    <tr>\n",
              "      <th>1342</th>\n",
              "      <td>oeste</td>\n",
              "      <td>Rua Natingui, Vila Madalena, São Paulo Zona Oe...</td>\n",
              "      <td>44.0</td>\n",
              "      <td>1.0</td>\n",
              "      <td>3600</td>\n",
              "    </tr>\n",
              "    <tr>\n",
              "      <th>1343</th>\n",
              "      <td>oeste</td>\n",
              "      <td>Rua Amaro Cavalheiro, Pinheiros, São Paulo Zon...</td>\n",
              "      <td>150.0</td>\n",
              "      <td>3.0</td>\n",
              "      <td>4000</td>\n",
              "    </tr>\n",
              "  </tbody>\n",
              "</table>\n",
              "<p>1270 rows × 5 columns</p>\n",
              "</div>"
            ],
            "text/plain": [
              "       zona  ... aluguel\n",
              "0     norte  ...    1150\n",
              "1     norte  ...    1480\n",
              "2     norte  ...     800\n",
              "3     norte  ...    1180\n",
              "4     norte  ...    1300\n",
              "...     ...  ...     ...\n",
              "1339  oeste  ...   13280\n",
              "1340  oeste  ...   15000\n",
              "1341  oeste  ...    2390\n",
              "1342  oeste  ...    3600\n",
              "1343  oeste  ...    4000\n",
              "\n",
              "[1270 rows x 5 columns]"
            ]
          },
          "metadata": {
            "tags": []
          },
          "execution_count": 75
        }
      ]
    },
    {
      "cell_type": "code",
      "metadata": {
        "id": "wcMN9-lIqJTo",
        "outputId": "6062f583-88a3-4fb2-816a-b18667bc523b",
        "colab": {
          "base_uri": "https://localhost:8080/",
          "height": 402
        }
      },
      "source": [
        "df.fillna(-1)"
      ],
      "execution_count": null,
      "outputs": [
        {
          "output_type": "execute_result",
          "data": {
            "text/html": [
              "<div>\n",
              "<style scoped>\n",
              "    .dataframe tbody tr th:only-of-type {\n",
              "        vertical-align: middle;\n",
              "    }\n",
              "\n",
              "    .dataframe tbody tr th {\n",
              "        vertical-align: top;\n",
              "    }\n",
              "\n",
              "    .dataframe thead th {\n",
              "        text-align: right;\n",
              "    }\n",
              "</style>\n",
              "<table border=\"1\" class=\"dataframe\">\n",
              "  <thead>\n",
              "    <tr style=\"text-align: right;\">\n",
              "      <th></th>\n",
              "      <th>zona</th>\n",
              "      <th>enderecos_lista</th>\n",
              "      <th>area</th>\n",
              "      <th>quartos</th>\n",
              "      <th>aluguel</th>\n",
              "    </tr>\n",
              "  </thead>\n",
              "  <tbody>\n",
              "    <tr>\n",
              "      <th>0</th>\n",
              "      <td>norte</td>\n",
              "      <td>Praça Rafael Mendes De Carvalho, Jardim Paraís...</td>\n",
              "      <td>50.0</td>\n",
              "      <td>2.0</td>\n",
              "      <td>1150</td>\n",
              "    </tr>\n",
              "    <tr>\n",
              "      <th>1</th>\n",
              "      <td>norte</td>\n",
              "      <td>Rua Almirante Noronha, Jardim São Paulo, São P...</td>\n",
              "      <td>76.0</td>\n",
              "      <td>3.0</td>\n",
              "      <td>1480</td>\n",
              "    </tr>\n",
              "    <tr>\n",
              "      <th>2</th>\n",
              "      <td>norte</td>\n",
              "      <td>Rua Cássio De Almeida, Vila Guilherme, São Pau...</td>\n",
              "      <td>30.0</td>\n",
              "      <td>1.0</td>\n",
              "      <td>800</td>\n",
              "    </tr>\n",
              "    <tr>\n",
              "      <th>3</th>\n",
              "      <td>norte</td>\n",
              "      <td>Rua Cabo José Da Silva, Parque Novo Mundo, São...</td>\n",
              "      <td>80.0</td>\n",
              "      <td>3.0</td>\n",
              "      <td>1180</td>\n",
              "    </tr>\n",
              "    <tr>\n",
              "      <th>4</th>\n",
              "      <td>norte</td>\n",
              "      <td>Parque Domingos Luís, Jardim São Paulo, São Pa...</td>\n",
              "      <td>70.0</td>\n",
              "      <td>2.0</td>\n",
              "      <td>1300</td>\n",
              "    </tr>\n",
              "    <tr>\n",
              "      <th>...</th>\n",
              "      <td>...</td>\n",
              "      <td>...</td>\n",
              "      <td>...</td>\n",
              "      <td>...</td>\n",
              "      <td>...</td>\n",
              "    </tr>\n",
              "    <tr>\n",
              "      <th>1339</th>\n",
              "      <td>oeste</td>\n",
              "      <td>Rua Piauí, Higienópolis, São Paulo Zona Oeste,...</td>\n",
              "      <td>480.0</td>\n",
              "      <td>4.0</td>\n",
              "      <td>13280</td>\n",
              "    </tr>\n",
              "    <tr>\n",
              "      <th>1340</th>\n",
              "      <td>oeste</td>\n",
              "      <td>Rua Doutor Aires Martins Torres, Vila São Fran...</td>\n",
              "      <td>620.0</td>\n",
              "      <td>4.0</td>\n",
              "      <td>15000</td>\n",
              "    </tr>\n",
              "    <tr>\n",
              "      <th>1341</th>\n",
              "      <td>oeste</td>\n",
              "      <td>Rua Doutor Martins De Oliveira, Jardim Londrin...</td>\n",
              "      <td>64.0</td>\n",
              "      <td>3.0</td>\n",
              "      <td>2390</td>\n",
              "    </tr>\n",
              "    <tr>\n",
              "      <th>1342</th>\n",
              "      <td>oeste</td>\n",
              "      <td>Rua Natingui, Vila Madalena, São Paulo Zona Oe...</td>\n",
              "      <td>44.0</td>\n",
              "      <td>1.0</td>\n",
              "      <td>3600</td>\n",
              "    </tr>\n",
              "    <tr>\n",
              "      <th>1343</th>\n",
              "      <td>oeste</td>\n",
              "      <td>Rua Amaro Cavalheiro, Pinheiros, São Paulo Zon...</td>\n",
              "      <td>150.0</td>\n",
              "      <td>3.0</td>\n",
              "      <td>4000</td>\n",
              "    </tr>\n",
              "  </tbody>\n",
              "</table>\n",
              "<p>1344 rows × 5 columns</p>\n",
              "</div>"
            ],
            "text/plain": [
              "       zona  ... aluguel\n",
              "0     norte  ...    1150\n",
              "1     norte  ...    1480\n",
              "2     norte  ...     800\n",
              "3     norte  ...    1180\n",
              "4     norte  ...    1300\n",
              "...     ...  ...     ...\n",
              "1339  oeste  ...   13280\n",
              "1340  oeste  ...   15000\n",
              "1341  oeste  ...    2390\n",
              "1342  oeste  ...    3600\n",
              "1343  oeste  ...    4000\n",
              "\n",
              "[1344 rows x 5 columns]"
            ]
          },
          "metadata": {
            "tags": []
          },
          "execution_count": 78
        }
      ]
    },
    {
      "cell_type": "code",
      "metadata": {
        "id": "OD-wCa7csA_f",
        "outputId": "b364185b-153b-4d64-d3cc-924f0d268e1c",
        "colab": {
          "base_uri": "https://localhost:8080/",
          "height": 284
        }
      },
      "source": [
        "df.describe()"
      ],
      "execution_count": null,
      "outputs": [
        {
          "output_type": "execute_result",
          "data": {
            "text/html": [
              "<div>\n",
              "<style scoped>\n",
              "    .dataframe tbody tr th:only-of-type {\n",
              "        vertical-align: middle;\n",
              "    }\n",
              "\n",
              "    .dataframe tbody tr th {\n",
              "        vertical-align: top;\n",
              "    }\n",
              "\n",
              "    .dataframe thead th {\n",
              "        text-align: right;\n",
              "    }\n",
              "</style>\n",
              "<table border=\"1\" class=\"dataframe\">\n",
              "  <thead>\n",
              "    <tr style=\"text-align: right;\">\n",
              "      <th></th>\n",
              "      <th>area</th>\n",
              "      <th>quartos</th>\n",
              "      <th>aluguel</th>\n",
              "    </tr>\n",
              "  </thead>\n",
              "  <tbody>\n",
              "    <tr>\n",
              "      <th>count</th>\n",
              "      <td>1341.000000</td>\n",
              "      <td>1273.000000</td>\n",
              "      <td>1344.000000</td>\n",
              "    </tr>\n",
              "    <tr>\n",
              "      <th>mean</th>\n",
              "      <td>112.697987</td>\n",
              "      <td>2.106834</td>\n",
              "      <td>4396.404762</td>\n",
              "    </tr>\n",
              "    <tr>\n",
              "      <th>std</th>\n",
              "      <td>259.503149</td>\n",
              "      <td>0.882869</td>\n",
              "      <td>29225.842756</td>\n",
              "    </tr>\n",
              "    <tr>\n",
              "      <th>min</th>\n",
              "      <td>1.000000</td>\n",
              "      <td>1.000000</td>\n",
              "      <td>299.000000</td>\n",
              "    </tr>\n",
              "    <tr>\n",
              "      <th>25%</th>\n",
              "      <td>48.000000</td>\n",
              "      <td>1.000000</td>\n",
              "      <td>1500.000000</td>\n",
              "    </tr>\n",
              "    <tr>\n",
              "      <th>50%</th>\n",
              "      <td>67.000000</td>\n",
              "      <td>2.000000</td>\n",
              "      <td>2200.000000</td>\n",
              "    </tr>\n",
              "    <tr>\n",
              "      <th>75%</th>\n",
              "      <td>106.000000</td>\n",
              "      <td>3.000000</td>\n",
              "      <td>3577.500000</td>\n",
              "    </tr>\n",
              "    <tr>\n",
              "      <th>max</th>\n",
              "      <td>7800.000000</td>\n",
              "      <td>5.000000</td>\n",
              "      <td>870000.000000</td>\n",
              "    </tr>\n",
              "  </tbody>\n",
              "</table>\n",
              "</div>"
            ],
            "text/plain": [
              "              area      quartos        aluguel\n",
              "count  1341.000000  1273.000000    1344.000000\n",
              "mean    112.697987     2.106834    4396.404762\n",
              "std     259.503149     0.882869   29225.842756\n",
              "min       1.000000     1.000000     299.000000\n",
              "25%      48.000000     1.000000    1500.000000\n",
              "50%      67.000000     2.000000    2200.000000\n",
              "75%     106.000000     3.000000    3577.500000\n",
              "max    7800.000000     5.000000  870000.000000"
            ]
          },
          "metadata": {
            "tags": []
          },
          "execution_count": 84
        }
      ]
    },
    {
      "cell_type": "code",
      "metadata": {
        "id": "YzZGNMp2r9yr",
        "outputId": "6a8774ad-0638-4e87-834f-2d2cc5d540e2",
        "colab": {
          "base_uri": "https://localhost:8080/"
        }
      },
      "source": [
        "df.mean()"
      ],
      "execution_count": null,
      "outputs": [
        {
          "output_type": "execute_result",
          "data": {
            "text/plain": [
              "area        112.697987\n",
              "quartos       2.106834\n",
              "aluguel    4396.404762\n",
              "dtype: float64"
            ]
          },
          "metadata": {
            "tags": []
          },
          "execution_count": 83
        }
      ]
    },
    {
      "cell_type": "code",
      "metadata": {
        "id": "iy2qqzzDqR25",
        "outputId": "382c3f9d-93d0-405f-81ac-4ca06f0794df",
        "colab": {
          "base_uri": "https://localhost:8080/"
        }
      },
      "source": [
        "df.median()"
      ],
      "execution_count": null,
      "outputs": [
        {
          "output_type": "execute_result",
          "data": {
            "text/plain": [
              "area         67.0\n",
              "quartos       2.0\n",
              "aluguel    2200.0\n",
              "dtype: float64"
            ]
          },
          "metadata": {
            "tags": []
          },
          "execution_count": 81
        }
      ]
    },
    {
      "cell_type": "code",
      "metadata": {
        "id": "G5gzYpAqq2eA",
        "outputId": "01614a14-76f8-48bf-89cf-51afaec8aa2e",
        "colab": {
          "base_uri": "https://localhost:8080/",
          "height": 402
        }
      },
      "source": [
        "df.fillna(df.median())"
      ],
      "execution_count": null,
      "outputs": [
        {
          "output_type": "execute_result",
          "data": {
            "text/html": [
              "<div>\n",
              "<style scoped>\n",
              "    .dataframe tbody tr th:only-of-type {\n",
              "        vertical-align: middle;\n",
              "    }\n",
              "\n",
              "    .dataframe tbody tr th {\n",
              "        vertical-align: top;\n",
              "    }\n",
              "\n",
              "    .dataframe thead th {\n",
              "        text-align: right;\n",
              "    }\n",
              "</style>\n",
              "<table border=\"1\" class=\"dataframe\">\n",
              "  <thead>\n",
              "    <tr style=\"text-align: right;\">\n",
              "      <th></th>\n",
              "      <th>zona</th>\n",
              "      <th>enderecos_lista</th>\n",
              "      <th>area</th>\n",
              "      <th>quartos</th>\n",
              "      <th>aluguel</th>\n",
              "    </tr>\n",
              "  </thead>\n",
              "  <tbody>\n",
              "    <tr>\n",
              "      <th>0</th>\n",
              "      <td>norte</td>\n",
              "      <td>Praça Rafael Mendes De Carvalho, Jardim Paraís...</td>\n",
              "      <td>50.0</td>\n",
              "      <td>2.0</td>\n",
              "      <td>1150</td>\n",
              "    </tr>\n",
              "    <tr>\n",
              "      <th>1</th>\n",
              "      <td>norte</td>\n",
              "      <td>Rua Almirante Noronha, Jardim São Paulo, São P...</td>\n",
              "      <td>76.0</td>\n",
              "      <td>3.0</td>\n",
              "      <td>1480</td>\n",
              "    </tr>\n",
              "    <tr>\n",
              "      <th>2</th>\n",
              "      <td>norte</td>\n",
              "      <td>Rua Cássio De Almeida, Vila Guilherme, São Pau...</td>\n",
              "      <td>30.0</td>\n",
              "      <td>1.0</td>\n",
              "      <td>800</td>\n",
              "    </tr>\n",
              "    <tr>\n",
              "      <th>3</th>\n",
              "      <td>norte</td>\n",
              "      <td>Rua Cabo José Da Silva, Parque Novo Mundo, São...</td>\n",
              "      <td>80.0</td>\n",
              "      <td>3.0</td>\n",
              "      <td>1180</td>\n",
              "    </tr>\n",
              "    <tr>\n",
              "      <th>4</th>\n",
              "      <td>norte</td>\n",
              "      <td>Parque Domingos Luís, Jardim São Paulo, São Pa...</td>\n",
              "      <td>70.0</td>\n",
              "      <td>2.0</td>\n",
              "      <td>1300</td>\n",
              "    </tr>\n",
              "    <tr>\n",
              "      <th>...</th>\n",
              "      <td>...</td>\n",
              "      <td>...</td>\n",
              "      <td>...</td>\n",
              "      <td>...</td>\n",
              "      <td>...</td>\n",
              "    </tr>\n",
              "    <tr>\n",
              "      <th>1339</th>\n",
              "      <td>oeste</td>\n",
              "      <td>Rua Piauí, Higienópolis, São Paulo Zona Oeste,...</td>\n",
              "      <td>480.0</td>\n",
              "      <td>4.0</td>\n",
              "      <td>13280</td>\n",
              "    </tr>\n",
              "    <tr>\n",
              "      <th>1340</th>\n",
              "      <td>oeste</td>\n",
              "      <td>Rua Doutor Aires Martins Torres, Vila São Fran...</td>\n",
              "      <td>620.0</td>\n",
              "      <td>4.0</td>\n",
              "      <td>15000</td>\n",
              "    </tr>\n",
              "    <tr>\n",
              "      <th>1341</th>\n",
              "      <td>oeste</td>\n",
              "      <td>Rua Doutor Martins De Oliveira, Jardim Londrin...</td>\n",
              "      <td>64.0</td>\n",
              "      <td>3.0</td>\n",
              "      <td>2390</td>\n",
              "    </tr>\n",
              "    <tr>\n",
              "      <th>1342</th>\n",
              "      <td>oeste</td>\n",
              "      <td>Rua Natingui, Vila Madalena, São Paulo Zona Oe...</td>\n",
              "      <td>44.0</td>\n",
              "      <td>1.0</td>\n",
              "      <td>3600</td>\n",
              "    </tr>\n",
              "    <tr>\n",
              "      <th>1343</th>\n",
              "      <td>oeste</td>\n",
              "      <td>Rua Amaro Cavalheiro, Pinheiros, São Paulo Zon...</td>\n",
              "      <td>150.0</td>\n",
              "      <td>3.0</td>\n",
              "      <td>4000</td>\n",
              "    </tr>\n",
              "  </tbody>\n",
              "</table>\n",
              "<p>1344 rows × 5 columns</p>\n",
              "</div>"
            ],
            "text/plain": [
              "       zona  ... aluguel\n",
              "0     norte  ...    1150\n",
              "1     norte  ...    1480\n",
              "2     norte  ...     800\n",
              "3     norte  ...    1180\n",
              "4     norte  ...    1300\n",
              "...     ...  ...     ...\n",
              "1339  oeste  ...   13280\n",
              "1340  oeste  ...   15000\n",
              "1341  oeste  ...    2390\n",
              "1342  oeste  ...    3600\n",
              "1343  oeste  ...    4000\n",
              "\n",
              "[1344 rows x 5 columns]"
            ]
          },
          "metadata": {
            "tags": []
          },
          "execution_count": 82
        }
      ]
    },
    {
      "cell_type": "code",
      "metadata": {
        "id": "N3OhtLauq7fL"
      },
      "source": [
        ""
      ],
      "execution_count": null,
      "outputs": []
    }
  ]
}